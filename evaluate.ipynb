{
 "cells": [
  {
   "cell_type": "code",
   "execution_count": 1,
   "id": "a5d64c16-fd80-44ee-8ddb-498395ac3d5c",
   "metadata": {},
   "outputs": [],
   "source": [
    "import pandas as pd\n",
    "import matplotlib.pyplot as plt\n",
    "import scipy.stats as stats\n",
    "import seaborn as sns\n",
    "import numpy as np\n",
    "from env import user,password,host\n",
    "import os\n",
    "import wrangle\n",
    "import explore\n",
    "from sklearn.preprocessing import MinMaxScaler, StandardScaler, RobustScaler\n",
    "\n",
    "import sklearn.preprocessing\n",
    "from sklearn.model_selection import train_test_split\n",
    "from sklearn.metrics import mean_squared_error\n",
    "from sklearn.metrics import explained_variance_score\n",
    "import warnings\n",
    "warnings.filterwarnings(\"ignore\")"
   ]
  },
  {
   "cell_type": "markdown",
   "id": "906eff40-2d24-4187-8667-c9ecc37529f9",
   "metadata": {},
   "source": [
    "# 1. Load your zillow dataset."
   ]
  },
  {
   "cell_type": "code",
   "execution_count": 2,
   "id": "16a650ff-e04c-49ee-b642-8626aeedafaf",
   "metadata": {},
   "outputs": [
    {
     "name": "stdout",
     "output_type": "stream",
     "text": [
      "csv file found and loaded\n",
      "\n",
      "train -> (1219902, 7), 60.0%\n",
      "validate -> (406635, 7),20.0%\n",
      "test -> (406635, 7), 20.0%\n"
     ]
    }
   ],
   "source": [
    "# get data\n",
    "df = wrangle.get_zillow_data()\n",
    "# prep\n",
    "df = wrangle.wrangle_zillow(df)\n",
    "# split\n",
    "train, validate, test = wrangle.split_data(df)"
   ]
  },
  {
   "cell_type": "code",
   "execution_count": 3,
   "id": "98487be4-f55d-4714-a200-3ae1fd5e1076",
   "metadata": {},
   "outputs": [],
   "source": [
    "train = train.sample(n=10000,random_state=123)"
   ]
  },
  {
   "cell_type": "markdown",
   "id": "777b5556-bac5-4a91-950b-e6e56e66d55f",
   "metadata": {},
   "source": [
    "# 2. Fit a linear regression model (ordinary least squares) and compute yhat, predictions of taxvaluedollarcnt using only calculatedfinishedsqft."
   ]
  },
  {
   "cell_type": "code",
   "execution_count": 4,
   "id": "25e048c2-dfc0-46fd-bd07-3ffa7b4b6984",
   "metadata": {},
   "outputs": [],
   "source": [
    "from sklearn.linear_model import LinearRegression"
   ]
  },
  {
   "cell_type": "code",
   "execution_count": 5,
   "id": "5dc4c67c-5561-4db6-bece-3bd84b67e63f",
   "metadata": {},
   "outputs": [
    {
     "data": {
      "text/html": [
       "<div>\n",
       "<style scoped>\n",
       "    .dataframe tbody tr th:only-of-type {\n",
       "        vertical-align: middle;\n",
       "    }\n",
       "\n",
       "    .dataframe tbody tr th {\n",
       "        vertical-align: top;\n",
       "    }\n",
       "\n",
       "    .dataframe thead th {\n",
       "        text-align: right;\n",
       "    }\n",
       "</style>\n",
       "<table border=\"1\" class=\"dataframe\">\n",
       "  <thead>\n",
       "    <tr style=\"text-align: right;\">\n",
       "      <th></th>\n",
       "      <th>bedrooms</th>\n",
       "      <th>bathrooms</th>\n",
       "      <th>area</th>\n",
       "      <th>taxvalue</th>\n",
       "      <th>yearbuilt</th>\n",
       "      <th>taxamount</th>\n",
       "      <th>county</th>\n",
       "    </tr>\n",
       "  </thead>\n",
       "  <tbody>\n",
       "    <tr>\n",
       "      <th>662794</th>\n",
       "      <td>2</td>\n",
       "      <td>1.0</td>\n",
       "      <td>980</td>\n",
       "      <td>522302</td>\n",
       "      <td>1955</td>\n",
       "      <td>5991.50</td>\n",
       "      <td>LA</td>\n",
       "    </tr>\n",
       "    <tr>\n",
       "      <th>1459121</th>\n",
       "      <td>3</td>\n",
       "      <td>2.0</td>\n",
       "      <td>1600</td>\n",
       "      <td>297116</td>\n",
       "      <td>1938</td>\n",
       "      <td>3645.70</td>\n",
       "      <td>LA</td>\n",
       "    </tr>\n",
       "    <tr>\n",
       "      <th>1082642</th>\n",
       "      <td>2</td>\n",
       "      <td>1.0</td>\n",
       "      <td>1040</td>\n",
       "      <td>67042</td>\n",
       "      <td>1964</td>\n",
       "      <td>1469.16</td>\n",
       "      <td>LA</td>\n",
       "    </tr>\n",
       "    <tr>\n",
       "      <th>59324</th>\n",
       "      <td>3</td>\n",
       "      <td>2.0</td>\n",
       "      <td>1588</td>\n",
       "      <td>422021</td>\n",
       "      <td>1924</td>\n",
       "      <td>5161.67</td>\n",
       "      <td>LA</td>\n",
       "    </tr>\n",
       "    <tr>\n",
       "      <th>2013330</th>\n",
       "      <td>3</td>\n",
       "      <td>2.0</td>\n",
       "      <td>1447</td>\n",
       "      <td>384362</td>\n",
       "      <td>1975</td>\n",
       "      <td>4504.42</td>\n",
       "      <td>Ventura</td>\n",
       "    </tr>\n",
       "  </tbody>\n",
       "</table>\n",
       "</div>"
      ],
      "text/plain": [
       "         bedrooms  bathrooms  area  taxvalue  yearbuilt  taxamount   county\n",
       "662794          2        1.0   980    522302       1955    5991.50       LA\n",
       "1459121         3        2.0  1600    297116       1938    3645.70       LA\n",
       "1082642         2        1.0  1040     67042       1964    1469.16       LA\n",
       "59324           3        2.0  1588    422021       1924    5161.67       LA\n",
       "2013330         3        2.0  1447    384362       1975    4504.42  Ventura"
      ]
     },
     "execution_count": 5,
     "metadata": {},
     "output_type": "execute_result"
    }
   ],
   "source": [
    "train.head()"
   ]
  },
  {
   "cell_type": "code",
   "execution_count": 6,
   "id": "1ef3fec8-9cf5-4cb3-84bb-501c2aa402d7",
   "metadata": {},
   "outputs": [
    {
     "data": {
      "text/plain": [
       "array([228021.09957378, 337452.72300626, 238611.25668015, ...,\n",
       "       507424.74456349, 375224.28335231, 279559.86415811])"
      ]
     },
     "execution_count": 6,
     "metadata": {},
     "output_type": "execute_result"
    }
   ],
   "source": [
    "# make it\n",
    "lr = LinearRegression()\n",
    "\n",
    "# fit it to training data\n",
    "lr.fit(train[['area']], train.taxvalue)\n",
    "\n",
    "# use it\n",
    "# we will use lr.predict to make predictions \n",
    "lr.predict(train[['area']])"
   ]
  },
  {
   "cell_type": "code",
   "execution_count": 7,
   "id": "17dd4c43-836b-437b-977f-d6559d38b8a1",
   "metadata": {},
   "outputs": [],
   "source": [
    "#lets put the predictions in the train\n",
    "train['yhat'] = lr.predict(train[['taxvalue']])"
   ]
  },
  {
   "cell_type": "code",
   "execution_count": 8,
   "id": "0a5cf431-8e5d-4960-a268-3d80ad9512ed",
   "metadata": {},
   "outputs": [
    {
     "data": {
      "text/plain": [
       "1200000"
      ]
     },
     "execution_count": 8,
     "metadata": {},
     "output_type": "execute_result"
    }
   ],
   "source": [
    "train.taxvalue.max()"
   ]
  },
  {
   "cell_type": "markdown",
   "id": "a0a7434e-3f4f-4175-85a5-37031a437328",
   "metadata": {},
   "source": [
    "# 3. Plot the residuals for the linear regression model that you made."
   ]
  },
  {
   "cell_type": "code",
   "execution_count": 9,
   "id": "1f2db150-a5b5-4f19-80ef-281555d46741",
   "metadata": {},
   "outputs": [
    {
     "data": {
      "image/png": "[encoded data removed]",
      "text/plain": [
       "<Figure size 640x480 with 1 Axes>"
      ]
     },
     "metadata": {},
     "output_type": "display_data"
    }
   ],
   "source": [
    "# visualize the line of best fit from OLS linear model\n",
    "\n",
    "#scatter is my actuals\n",
    "plt.scatter(train.area, train.taxvalue)\n",
    "\n",
    "#lineplot is my regression line\n",
    "plt.plot(train.taxvalue, train.yhat, color='red', linewidth=2)\n",
    "\n",
    "\n",
    "plt.xlabel('x = area')\n",
    "plt.ylabel('y = taxvalue')\n",
    "plt.title('OLS linear model')\n",
    "plt.show()"
   ]
  },
  {
   "cell_type": "code",
   "execution_count": 10,
   "id": "b982d6a5-c93e-41be-8542-0dbf46194dfa",
   "metadata": {},
   "outputs": [
    {
     "data": {
      "text/plain": [
       "363801.9164"
      ]
     },
     "execution_count": 10,
     "metadata": {},
     "output_type": "execute_result"
    }
   ],
   "source": [
    "#calculate mean\n",
    "baseline = train.taxvalue.mean()\n",
    "baseline"
   ]
  },
  {
   "cell_type": "code",
   "execution_count": 11,
   "id": "a82a1a5f-9b40-40a1-88a4-fe6135dbd4c2",
   "metadata": {},
   "outputs": [
    {
     "data": {
      "text/html": [
       "<div>\n",
       "<style scoped>\n",
       "    .dataframe tbody tr th:only-of-type {\n",
       "        vertical-align: middle;\n",
       "    }\n",
       "\n",
       "    .dataframe tbody tr th {\n",
       "        vertical-align: top;\n",
       "    }\n",
       "\n",
       "    .dataframe thead th {\n",
       "        text-align: right;\n",
       "    }\n",
       "</style>\n",
       "<table border=\"1\" class=\"dataframe\">\n",
       "  <thead>\n",
       "    <tr style=\"text-align: right;\">\n",
       "      <th></th>\n",
       "      <th>bedrooms</th>\n",
       "      <th>bathrooms</th>\n",
       "      <th>area</th>\n",
       "      <th>taxvalue</th>\n",
       "      <th>yearbuilt</th>\n",
       "      <th>taxamount</th>\n",
       "      <th>county</th>\n",
       "      <th>yhat</th>\n",
       "      <th>baseline</th>\n",
       "    </tr>\n",
       "  </thead>\n",
       "  <tbody>\n",
       "    <tr>\n",
       "      <th>662794</th>\n",
       "      <td>2</td>\n",
       "      <td>1.0</td>\n",
       "      <td>980</td>\n",
       "      <td>522302</td>\n",
       "      <td>1955</td>\n",
       "      <td>5991.5</td>\n",
       "      <td>LA</td>\n",
       "      <td>9.224272e+07</td>\n",
       "      <td>363801.9164</td>\n",
       "    </tr>\n",
       "    <tr>\n",
       "      <th>1459121</th>\n",
       "      <td>3</td>\n",
       "      <td>2.0</td>\n",
       "      <td>1600</td>\n",
       "      <td>297116</td>\n",
       "      <td>1938</td>\n",
       "      <td>3645.7</td>\n",
       "      <td>LA</td>\n",
       "      <td>5.249680e+07</td>\n",
       "      <td>363801.9164</td>\n",
       "    </tr>\n",
       "  </tbody>\n",
       "</table>\n",
       "</div>"
      ],
      "text/plain": [
       "         bedrooms  bathrooms  area  taxvalue  yearbuilt  taxamount county  \\\n",
       "662794          2        1.0   980    522302       1955     5991.5     LA   \n",
       "1459121         3        2.0  1600    297116       1938     3645.7     LA   \n",
       "\n",
       "                 yhat     baseline  \n",
       "662794   9.224272e+07  363801.9164  \n",
       "1459121  5.249680e+07  363801.9164  "
      ]
     },
     "execution_count": 11,
     "metadata": {},
     "output_type": "execute_result"
    }
   ],
   "source": [
    "#add it to the df\n",
    "train['baseline'] = baseline\n",
    "train.head(2)"
   ]
  },
  {
   "cell_type": "code",
   "execution_count": 12,
   "id": "c8467ca3-502c-4319-b378-d26c8e8e7eeb",
   "metadata": {},
   "outputs": [
    {
     "data": {
      "image/png": "[encoded data removed]",
      "text/plain": [
       "<Figure size 640x480 with 1 Axes>"
      ]
     },
     "metadata": {},
     "output_type": "display_data"
    }
   ],
   "source": [
    "# visualize the line of best fit from OLS linear model\n",
    "\n",
    "#scatter is my actuals\n",
    "plt.scatter(train.area, train.taxvalue)\n",
    "\n",
    "#lineplot is my regression line\n",
    "plt.plot(train.taxvalue, train.yhat, color='red', linewidth=2)\n",
    "plt.axhline(baseline, ls=':', color='red')\n",
    "plt.xlabel('x = area')\n",
    "plt.ylabel('y = taxvalue')\n",
    "plt.title('OLS linear model')\n",
    "plt.show()"
   ]
  },
  {
   "cell_type": "markdown",
   "id": "d489b89d-a6f4-490c-84f4-c9e190815a56",
   "metadata": {},
   "source": [
    "# 4. Calculate the sum of squared errors, explained sum of squares, total sum of squares, mean squared error, and root mean squared error for your model.\n"
   ]
  },
  {
   "cell_type": "code",
   "execution_count": 13,
   "id": "d2928cbe-283d-44f9-9638-f7bcd1e20639",
   "metadata": {},
   "outputs": [
    {
     "name": "stdout",
     "output_type": "stream",
     "text": [
      "Answer\n"
     ]
    },
    {
     "ename": "NameError",
     "evalue": "name 'SSE' is not defined",
     "output_type": "error",
     "traceback": [
      "\u001b[0;31m---------------------------------------------------------------------------\u001b[0m",
      "\u001b[0;31mNameError\u001b[0m                                 Traceback (most recent call last)",
      "Input \u001b[0;32mIn [13]\u001b[0m, in \u001b[0;36m<cell line: 2>\u001b[0;34m()\u001b[0m\n\u001b[1;32m      1\u001b[0m \u001b[38;5;28mprint\u001b[39m(\u001b[38;5;124m'\u001b[39m\u001b[38;5;124mAnswer\u001b[39m\u001b[38;5;124m'\u001b[39m)\n\u001b[0;32m----> 2\u001b[0m \u001b[38;5;28mprint\u001b[39m(\u001b[38;5;124m\"\u001b[39m\u001b[38;5;124mSSE:\u001b[39m\u001b[38;5;124m\"\u001b[39m, \u001b[43mSSE\u001b[49m) \n\u001b[1;32m      3\u001b[0m \u001b[38;5;28mprint\u001b[39m(\u001b[38;5;124m\"\u001b[39m\u001b[38;5;124mESS:\u001b[39m\u001b[38;5;124m\"\u001b[39m, ESS)\n\u001b[1;32m      4\u001b[0m \u001b[38;5;28mprint\u001b[39m(\u001b[38;5;124m'\u001b[39m\u001b[38;5;124mTSS:\u001b[39m\u001b[38;5;124m'\u001b[39m, TSS)\n",
      "\u001b[0;31mNameError\u001b[0m: name 'SSE' is not defined"
     ]
    }
   ],
   "source": [
    "print('Answer')\n",
    "print(\"SSE:\", SSE) \n",
    "print(\"ESS:\", ESS)\n",
    "print('TSS:', TSS)\n",
    "print(\"MSE:\", MSE) \n",
    "print(\"RMSE:\", RMSE) "
   ]
  },
  {
   "cell_type": "markdown",
   "id": "74353e26-23da-4461-912d-8c5f59e31a74",
   "metadata": {},
   "source": [
    "# 5. Calculate the sum of squared errors, mean squared error, and root mean squared error for the baseline model (i.e. a model that always predicts the average taxvaluedollarcnt amount)."
   ]
  },
  {
   "cell_type": "code",
   "execution_count": null,
   "id": "f30a2a3e-2862-40ac-83b2-6fe832dcfbf3",
   "metadata": {},
   "outputs": [],
   "source": [
    "print('Answer for Baseline')\n",
    "print(\"SSE:\", SSE_baseline) \n",
    "print(\"ESS:\", ESS_baseline)\n",
    "print('TSS:', TSS_baseline)\n",
    "print(\"MSE:\", MSE_baseline) \n",
    "print(\"RMSE:\", RMSE_baseline) "
   ]
  },
  {
   "cell_type": "markdown",
   "id": "466b0769-d12d-4e96-ba51-bf7ba9539f69",
   "metadata": {},
   "source": [
    "## MSE: mean squared error"
   ]
  },
  {
   "cell_type": "code",
   "execution_count": null,
   "id": "a47b69d3-8e84-43eb-b4a0-9db9dcc4e1b5",
   "metadata": {},
   "outputs": [],
   "source": [
    "#import sklearn mean_square_error\n",
    "from sklearn.metrics import mean_squared_error\n",
    "from sklearn.metrics import explained_variance_score"
   ]
  },
  {
   "cell_type": "code",
   "execution_count": null,
   "id": "f4267778-c148-4c45-b7c0-0185a1802b7c",
   "metadata": {},
   "outputs": [],
   "source": [
    "MSE_baseline = mean_squared_error(train.taxvalue, train.baseline)\n",
    "MSE = mean_squared_error(train.taxvalue, train.yhat)"
   ]
  },
  {
   "cell_type": "code",
   "execution_count": null,
   "id": "784757eb-eeb1-4353-ab89-1a206ad91a14",
   "metadata": {},
   "outputs": [],
   "source": [
    "print(\"MSE baseline:\", MSE_baseline) \n",
    "print(\"MSE:\", MSE) "
   ]
  },
  {
   "cell_type": "markdown",
   "id": "229556e7-fdf3-4a22-8f69-70e7be127364",
   "metadata": {},
   "source": [
    "## SSE: sum of squared errors"
   ]
  },
  {
   "cell_type": "code",
   "execution_count": null,
   "id": "2a2735cd-a3af-4fc4-a63c-b20510263bb5",
   "metadata": {},
   "outputs": [],
   "source": [
    "SSE_baseline = MSE_baseline * len(train)\n",
    "SSE = MSE * len(train)"
   ]
  },
  {
   "cell_type": "code",
   "execution_count": null,
   "id": "55a7cbc4-6c39-4f1c-b959-f6976d44ef20",
   "metadata": {},
   "outputs": [],
   "source": [
    "print(\"SSE baseline:\" ,SSE_baseline) \n",
    "print(\"SSE:\", SSE) "
   ]
  },
  {
   "cell_type": "markdown",
   "id": "7bfcc8c9-a06b-412a-bcd2-15bfa89e4536",
   "metadata": {},
   "source": [
    "## RMSE: root mean squared error"
   ]
  },
  {
   "cell_type": "code",
   "execution_count": null,
   "id": "1dafca7b-0beb-4640-b479-a94401493396",
   "metadata": {},
   "outputs": [],
   "source": [
    "RMSE_baseline = MSE_baseline **.5\n",
    "RMSE = MSE ** .5"
   ]
  },
  {
   "cell_type": "code",
   "execution_count": null,
   "id": "d0d63dc4-7647-4ca5-8e9c-cc854c8f6a0f",
   "metadata": {},
   "outputs": [],
   "source": [
    "print(\"RMSE baseline\" ,RMSE_baseline)\n",
    "print(\"RMSE\", RMSE) "
   ]
  },
  {
   "cell_type": "markdown",
   "id": "f9949871-5f9d-42f5-a5b5-f87330963d83",
   "metadata": {},
   "source": [
    "## ESS: explained sum of squares"
   ]
  },
  {
   "cell_type": "code",
   "execution_count": null,
   "id": "83d3f5ac-b7c0-40d2-8cc0-ae19b3ea6416",
   "metadata": {},
   "outputs": [],
   "source": [
    "# compute explained sum of squares\n",
    "ESS = sum((train.yhat - train.taxvalue.mean())**2)\n",
    "ESS_baseline = sum((train.baseline - train.taxvalue.mean()) **2)\n",
    "print(\"ESS_baseline\", ESS_baseline)\n",
    "print(\"ESS\", ESS)"
   ]
  },
  {
   "cell_type": "markdown",
   "id": "b2e94810-d375-47c1-aef2-26cf47f079f1",
   "metadata": {},
   "source": [
    "## TSS: total sum of squares"
   ]
  },
  {
   "cell_type": "code",
   "execution_count": null,
   "id": "1c4a98ca-d877-4be3-997e-42c4794b6524",
   "metadata": {},
   "outputs": [],
   "source": [
    "TSS_baseline = ESS_baseline + SSE_baseline\n",
    "TSS = ESS + SSE\n",
    "print('TSS_baseline', TSS_baseline)\n",
    "print('TSS', TSS)"
   ]
  },
  {
   "cell_type": "code",
   "execution_count": null,
   "id": "fd2487dc-d8f6-4087-9de4-43929be4180b",
   "metadata": {},
   "outputs": [],
   "source": [
    "## All in one\n",
    "#MSE\n",
    "MSE_baseline = mean_squared_error(train.taxvalue, train.baseline)\n",
    "MSE = mean_squared_error(train.taxvalue, train.yhat)\n",
    "#SSE\n",
    "SSE_baseline = MSE_baseline * len(train)\n",
    "SSE = MSE * len(train)\n",
    "#RMSE\n",
    "RMSE_baseline = MSE_baseline **.5\n",
    "RMSE = MSE ** .5\n",
    "#ESS\n",
    "ESS = sum((train.yhat - train.taxvalue.mean())**2)\n",
    "ESS_baseline = sum((train.baseline - train.taxvalue.mean()) **2)\n",
    "#TSS\n",
    "TSS_baseline = ESS_baseline + SSE_baseline\n",
    "TSS = ESS + SSE\n",
    "#print all\n",
    "print(\"MSE baseline:\", MSE_baseline) \n",
    "print(\"MSE:\", MSE) \n",
    "print(\"SSE baseline:\" ,SSE_baseline) \n",
    "print(\"SSE:\", SSE) \n",
    "print(\"RMSE baseline\" ,RMSE_baseline)\n",
    "print(\"RMSE\", RMSE) \n",
    "print(\"ESS_baseline\", ESS_baseline)\n",
    "print(\"ESS\", ESS)\n",
    "print('TSS_baseline', TSS_baseline)\n",
    "print('TSS', TSS)"
   ]
  },
  {
   "cell_type": "markdown",
   "id": "f4a5cdc4-3e50-4bef-817c-fda7b8237f42",
   "metadata": {},
   "source": [
    "# 6. Write python code that compares the sum of squared errors for your model against the sum of squared errors for the baseline model and outputs whether or not your model performs better than the baseline model."
   ]
  },
  {
   "cell_type": "code",
   "execution_count": null,
   "id": "d7624529-a886-4c20-937e-db93716d2ea3",
   "metadata": {},
   "outputs": [],
   "source": [
    "if SSE_baseline > SSE:\n",
    "    print('model performs better than baseline')\n",
    "else:\n",
    "    print('model does not perform better than baseline')"
   ]
  },
  {
   "cell_type": "markdown",
   "id": "7b84b438-dda4-4af4-ab00-751689f35aed",
   "metadata": {},
   "source": [
    "# 7. What is the amount of variance explained in your model?"
   ]
  },
  {
   "cell_type": "code",
   "execution_count": null,
   "id": "cc1c6f2b-7d33-45a4-8f5b-72f5f091c853",
   "metadata": {},
   "outputs": [],
   "source": [
    "# sklearn.metrics.explained_variance_score\n",
    "\n",
    "evs = explained_variance_score(train.taxvalue, train.yhat)\n",
    "print('Explained Variance = ', round(evs,3))\n"
   ]
  },
  {
   "cell_type": "markdown",
   "id": "9e550da1-bb6f-478a-a13b-ad97b393cdea",
   "metadata": {},
   "source": [
    "# 8. Is your model better than the baseline model?"
   ]
  },
  {
   "cell_type": "code",
   "execution_count": null,
   "id": "27523f17-747b-4cae-a6b8-f55616688155",
   "metadata": {},
   "outputs": [],
   "source": [
    "# Yes,  my model performs better than the baseline model"
   ]
  },
  {
   "cell_type": "markdown",
   "id": "bb5c2a6b-4359-45c0-8231-7365c90e1c91",
   "metadata": {},
   "source": [
    "# 9. Create a file named evaluate.py that contains the following functions.\n",
    "\n",
    "* plot_residuals(y, yhat): creates a residual plot\n",
    "* regression_errors(y, yhat): returns the following values:\n",
    "* sum of squared errors (SSE)\n",
    "* explained sum of squares (ESS)\n",
    "* total sum of squares (TSS)\n",
    "* mean squared error (MSE)\n",
    "* root mean squared error (RMSE)\n",
    "* baseline_mean_errors(y): computes the SSE, MSE, and RMSE for the baseline model\n",
    "* better_than_baseline(y, yhat): returns true if your model performs better than the baseline, otherwise false"
   ]
  },
  {
   "cell_type": "code",
   "execution_count": null,
   "id": "826e6d5e-6b77-44b1-aedb-37f562094bdd",
   "metadata": {},
   "outputs": [],
   "source": [
    "import numpy as np\n",
    "import matplotlib.pyplot as plt\n",
    "\n",
    "def plot_residuals(y, yhat):\n",
    "    residuals = y - yhat\n",
    "    plt.scatter(yhat, residuals)\n",
    "    plt.axhline(y=0, color='r', linestyle='--')\n",
    "    plt.xlabel('Predicted values')\n",
    "    plt.ylabel('Residuals')\n",
    "    plt.title('Residual Plot')\n",
    "    plt.show()\n",
    "\n",
    "def regression_errors(y, yhat):\n",
    "    SSE = np.sum((y - yhat) ** 2)\n",
    "    ESS = np.sum((yhat - np.mean(y)) ** 2)\n",
    "    TSS = np.sum((y - np.mean(y)) ** 2)\n",
    "    MSE = SSE / len(y)\n",
    "    RMSE = np.sqrt(MSE)\n",
    "    return SSE, ESS, TSS, MSE, RMSE\n",
    "\n",
    "def baseline_mean_errors(y):\n",
    "    baseline_prediction = np.mean(y)\n",
    "    SSE = np.sum((y - baseline_prediction) ** 2)\n",
    "    MSE = SSE / len(y)\n",
    "    RMSE = np.sqrt(MSE)\n",
    "    return SSE, MSE, RMSE\n",
    "\n",
    "def better_than_baseline(y, yhat):\n",
    "    SSE_model, _, _, _, _ = regression_errors(y, yhat)\n",
    "    SSE_baseline, _, _ = baseline_mean_errors(y)\n",
    "    return SSE_model < SSE_baseline\n"
   ]
  },
  {
   "cell_type": "code",
   "execution_count": null,
   "id": "c9d2ae21-d719-4829-90e4-81f1b968056e",
   "metadata": {},
   "outputs": [],
   "source": [
    "#from evaluate import *\n",
    "\n",
    "# Example usage\n",
    "y = np.array([1, 2, 3, 4, 5])\n",
    "yhat = np.array([1.2, 1.8, 3.2, 3.9, 4.6])\n",
    "\n",
    "plot_residuals(y, yhat)\n",
    "\n",
    "SSE, ESS, TSS, MSE, RMSE = regression_errors(y, yhat)\n",
    "print(\"SSE:\", SSE)\n",
    "print(\"ESS:\", ESS)\n",
    "print(\"TSS:\", TSS)\n",
    "print(\"MSE:\", MSE)\n",
    "print(\"RMSE:\", RMSE)\n",
    "\n",
    "SSE_baseline, MSE_baseline, RMSE_baseline = baseline_mean_errors(y)\n",
    "print(\"Baseline SSE:\", SSE_baseline)\n",
    "print(\"Baseline MSE:\", MSE_baseline)\n",
    "print(\"Baseline RMSE:\", RMSE_baseline)\n",
    "\n",
    "if better_than_baseline(y, yhat):\n",
    "    print(\"The model performs better than the baseline.\")\n",
    "else:\n",
    "    print(\"The model does not perform better than the baseline.\")\n"
   ]
  },
  {
   "cell_type": "code",
   "execution_count": null,
   "id": "f121cc3d-6370-411e-945c-9ef34f1c1450",
   "metadata": {},
   "outputs": [],
   "source": [
    "y= train.taxvalue\n",
    "yhat=train.yhat\n",
    "\n",
    "plot_residuals(y,yhat)\n",
    "residuals = y - yhat\n",
    "plt.scatter(yhat, residuals)\n",
    "plt.axhline(y=0, color='r', linestyle='--')\n",
    "plt.xlabel('Predicted values')\n",
    "plt.ylabel('Residuals')\n",
    "plt.title('Residual Plot')\n",
    "plt.show()"
   ]
  },
  {
   "cell_type": "code",
   "execution_count": null,
   "id": "65d50a20-c76a-4649-a6e5-0d0762ff91df",
   "metadata": {},
   "outputs": [],
   "source": [
    "def evaluate(y,yhat):\n",
    "    '''\n",
    "    all in one funct to return:\n",
    "    plot_residuals(y, yhat): creates a residual plot\n",
    "    regression_errors(y, yhat): returns the following values:\n",
    "    sum of squared errors (SSE)\n",
    "    explained sum of squares (ESS)\n",
    "    total sum of squares (TSS)\n",
    "    mean squared error (MSE)\n",
    "    root mean squared error (RMSE)\n",
    "    baseline_mean_errors(y): computes the SSE, MSE, and RMSE for the baseline model\n",
    "    better_than_baseline(y, yhat): returns true if your model performs better than the baseline, otherwise false\n",
    "    '''\n",
    "    # plot residuals\n",
    "    plot_residuals(y, yhat)\n",
    "    \n",
    "    SSE, ESS, TSS, MSE, RMSE = regression_errors(y, yhat)\n",
    "    print(\"SSE:\", SSE)\n",
    "    print(\"ESS:\", ESS)\n",
    "    print(\"TSS:\", TSS)\n",
    "    print(\"MSE:\", MSE)\n",
    "    print(\"RMSE:\", RMSE)\n",
    "    \n",
    "    SSE_baseline, MSE_baseline, RMSE_baseline = baseline_mean_errors(y)\n",
    "    print(\"Baseline SSE:\", SSE_baseline)\n",
    "    print(\"Baseline MSE:\", MSE_baseline)\n",
    "    print(\"Baseline RMSE:\", RMSE_baseline)\n",
    "    \n",
    "    if better_than_baseline(y, yhat):\n",
    "        print(\"The model performs better than the baseline.\")\n",
    "    else:\n",
    "        print(\"The model does not perform better than the baseline.\")"
   ]
  },
  {
   "cell_type": "code",
   "execution_count": null,
   "id": "427a7abc-03c4-43c8-964c-9e804b961d57",
   "metadata": {},
   "outputs": [],
   "source": [
    "evaluate(train.taxvalue,train.yhat)"
   ]
  },
  {
   "cell_type": "code",
   "execution_count": 15,
   "id": "36809fd3-19f5-4f25-a348-f56826da7cb8",
   "metadata": {},
   "outputs": [
    {
     "data": {
      "image/png": "[encoded data removed]",
      "text/plain": [
       "<Figure size 640x480 with 1 Axes>"
      ]
     },
     "metadata": {},
     "output_type": "display_data"
    }
   ],
   "source": [
    "explore.plot_residuals(train.taxvalue,train.yhat)"
   ]
  },
  {
   "cell_type": "code",
   "execution_count": null,
   "id": "923d5e6d-7501-49bf-8c1d-710e2af3fb05",
   "metadata": {},
   "outputs": [],
   "source": []
  }
 ],
 "metadata": {
  "kernelspec": {
   "display_name": "Python 3 (ipykernel)",
   "language": "python",
   "name": "python3"
  },
  "language_info": {
   "codemirror_mode": {
    "name": "ipython",
    "version": 3
   },
   "file_extension": ".py",
   "mimetype": "text/x-python",
   "name": "python",
   "nbconvert_exporter": "python",
   "pygments_lexer": "ipython3",
   "version": "3.9.13"
  }
 },
 "nbformat": 4,
 "nbformat_minor": 5
}
